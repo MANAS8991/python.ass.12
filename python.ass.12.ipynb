{
 "cells": [
  {
   "cell_type": "markdown",
   "id": "1007ae58",
   "metadata": {},
   "source": [
    "# 1. In what modes should the PdfFileReader() and PdfFileWriter() File objects will be opened?"
   ]
  },
  {
   "cell_type": "code",
   "execution_count": null,
   "id": "7c1eee93",
   "metadata": {},
   "outputs": [],
   "source": [
    "In Python, when working with PdfFileReader() and PdfFileWriter() objects from the PyPDF2 library (prior to September 2021), you don't explicitly open file objects using different modes. Instead, you pass the file objects directly as arguments to these classes.\n",
    "\n",
    "The PdfFileReader() class is used for reading information from existing PDF files, and it expects an open file object in read-binary mode ('rb'). You can open the file using the open() function, as follows:\n",
    "\n",
    "pdf_file = open('path/to/file.pdf', 'rb')\n",
    "pdf_reader = PdfFileReader(pdf_file)\n",
    "\n",
    "Similarly, the PdfFileWriter() class is used for creating new PDF files or modifying existing ones. It also expects an open file object, but in write-binary mode ('wb'). You can open the file for writing using the open() function, as follows:\n",
    "\n",
    "pdf_file = open('path/to/new_file.pdf', 'wb')\n",
    "pdf_writer = PdfFileWriter()\n",
    "pdf_writer.addPage(some_page)  # Add pages or perform other operations\n",
    "pdf_writer.write(pdf_file)\n",
    "pdf_file.close()\n",
    "\n",
    "However, please note that the PyPDF2 library has not been actively maintained since 2016. If you're working with more recent versions of Python (3.8 and above), it's recommended to use an alternative library such as PyPDF4, pdfminer.six, or pdfplumber, which provide more up-to-date features and bug fixes.\n"
   ]
  },
  {
   "cell_type": "markdown",
   "id": "2d51be0f",
   "metadata": {},
   "source": [
    "# 2. From a PdfFileReader object, how do you get a Page object for page 5?"
   ]
  },
  {
   "cell_type": "code",
   "execution_count": null,
   "id": "6801b5e5",
   "metadata": {},
   "outputs": [],
   "source": [
    "To get a Page object for a specific page number from a PdfFileReader object in Python, you can use the getPage() method. The page numbering starts from 0, so to get a Page object for page 5, you would pass the index 4 (since indexing starts from 0) to the getPage() method. Here's an example:\n",
    "\n",
    "from PyPDF2 import PdfFileReader\n",
    "\n",
    "pdf_file = open('path/to/file.pdf', 'rb')\n",
    "pdf_reader = PdfFileReader(pdf_file)\n",
    "\n",
    "page_number = 4  # Page 5 (index 4)\n",
    "page = pdf_reader.getPage(page_number)\n",
    "\n",
    "# You can now work with the Page object, such as extracting text or modifying it\n",
    "# For example, to extract text from the page:\n",
    "page_text = page.extract_text()\n",
    "\n",
    "pdf_file.close()\n",
    "\n",
    "In this example, pdf_reader.getPage(4) retrieves the Page object for the fifth page (index 4) from the PdfFileReader object pdf_reader. You can then perform various operations on the page object, such as extracting text, modifying it, or extracting images.\n",
    "\n",
    "Remember to open the PDF file in read-binary mode ('rb') before creating the PdfFileReader object, and don't forget to close the file using pdf_file.close() when you're done working with it."
   ]
  },
  {
   "cell_type": "markdown",
   "id": "4be35ca7",
   "metadata": {},
   "source": [
    "# 3. What PdfFileReader variable stores the number of pages in the PDF document?"
   ]
  },
  {
   "cell_type": "code",
   "execution_count": null,
   "id": "8a6cde27",
   "metadata": {},
   "outputs": [],
   "source": [
    "The PdfFileReader class from the PyPDF2 library (prior to September 2021) provides a variable called numPages that stores the number of pages in the PDF document. You can access this variable to retrieve the page count.\n",
    "\n",
    "Here's an example:\n",
    "from PyPDF2 import PdfFileReader\n",
    "\n",
    "pdf_file = open('path/to/file.pdf', 'rb')\n",
    "pdf_reader = PdfFileReader(pdf_file)\n",
    "\n",
    "page_count = pdf_reader.numPages\n",
    "\n",
    "print(\"Number of pages:\", page_count)\n",
    "\n",
    "pdf_file.close()\n",
    "\n",
    "In this example, pdf_reader.numPages returns the number of pages in the PDF document. You can assign this value to the page_count variable or use it directly in your code. After that, you can perform any necessary operations based on the page count.\n",
    "\n",
    "Remember to open the PDF file in read-binary mode ('rb') before creating the PdfFileReader object, and close the file using pdf_file.close() when you're finished working with it.\n"
   ]
  },
  {
   "cell_type": "markdown",
   "id": "1c61815e",
   "metadata": {},
   "source": [
    "# 4. If a PdfFileReader object’s PDF is encrypted with the password swordfish, what must you do before you can obtain Page objects from it?"
   ]
  },
  {
   "cell_type": "code",
   "execution_count": null,
   "id": "f1196e8d",
   "metadata": {},
   "outputs": [],
   "source": [
    "# If a PdfFileReader object's PDF is encrypted with a password, such as \"swordfish\", you need to decrypt the PDF by providing the password before you can obtain Page objects from it. Here's what you need to do:\n",
    "    \n",
    "    from PyPDF2 import PdfFileReader\n",
    "\n",
    "pdf_file = open('path/to/file.pdf', 'rb')\n",
    "pdf_reader = PdfFileReader(pdf_file)\n",
    "\n",
    "# Check if the PDF is encrypted\n",
    "if pdf_reader.isEncrypted:\n",
    "    # Decrypt the PDF with the password\n",
    "    pdf_reader.decrypt('swordfish')\n",
    "\n",
    "# Now you can obtain Page objects\n",
    "page_number = 4  # Example: Get Page object for page 5 (index 4)\n",
    "page = pdf_reader.getPage(page_number)\n",
    "\n",
    "# Perform operations on the Page object if needed\n",
    "\n",
    "pdf_file.close()\n",
    "\n",
    "In this example, pdf_reader.isEncrypted checks if the PDF is encrypted. If it is, pdf_reader.decrypt('swordfish') is used to decrypt the PDF by providing the correct password.\n",
    "\n",
    "After decrypting the PDF, you can then obtain Page objects using methods like getPage() to perform operations on specific pages or access their content.\n",
    "\n",
    "Remember to open the PDF file in read-binary mode ('rb') before creating the PdfFileReader object, and close the file using pdf_file.close() when you're done working with it."
   ]
  },
  {
   "cell_type": "markdown",
   "id": "e3b4d6f4",
   "metadata": {},
   "source": [
    "# 5. What methods do you use to rotate a page?"
   ]
  },
  {
   "cell_type": "code",
   "execution_count": null,
   "id": "f2055d89",
   "metadata": {},
   "outputs": [],
   "source": [
    "To rotate a page in a PDF using the PyPDF2 library (prior to September 2021), you can use the rotateClockwise() or rotateCounterClockwise() methods provided by the PageObject class. These methods allow you to rotate the page by a specified angle.\n",
    "\n",
    "Here's an example that demonstrates rotating a page 90 degrees clockwise:\n",
    "\n",
    "from PyPDF2 import PdfFileReader, PdfFileWriter\n",
    "\n",
    "pdf_file = open('path/to/input_file.pdf', 'rb')\n",
    "pdf_reader = PdfFileReader(pdf_file)\n",
    "\n",
    "page_number = 0  # Index of the page you want to rotate (e.g., first page)\n",
    "\n",
    "page = pdf_reader.getPage(page_number)\n",
    "page.rotateClockwise(90)  # Rotate the page 90 degrees clockwise\n",
    "\n",
    "pdf_writer = PdfFileWriter()\n",
    "pdf_writer.addPage(page)\n",
    "\n",
    "output_file = open('path/to/output_file.pdf', 'wb')\n",
    "pdf_writer.write(output_file)\n",
    "\n",
    "pdf_file.close()\n",
    "output_file.close()\n",
    "\n",
    "In this example, pdf_reader.getPage(page_number) retrieves the desired page from the PdfFileReader object, and page.rotateClockwise(90) rotates the page 90 degrees clockwise. You can also use rotateCounterClockwise() to rotate the page in the opposite direction.\n",
    "\n",
    "After rotating the page, you can add it to a new PdfFileWriter object using pdf_writer.addPage(page). Finally, the modified PDF is saved to the output file using pdf_writer.write(output_file)."
   ]
  },
  {
   "cell_type": "markdown",
   "id": "c995c2cc",
   "metadata": {},
   "source": [
    "# 6. What is the difference between a Run object and a Paragraph object?"
   ]
  },
  {
   "cell_type": "code",
   "execution_count": null,
   "id": "557ba0a0",
   "metadata": {},
   "outputs": [],
   "source": [
    "Run object: A Run object represents a contiguous run of text within a paragraph that shares the same character formatting. It means that text with different formatting (e.g., bold, italic, font size) within a paragraph is divided into separate Run objects. Each Run object contains a portion of the text with a specific set of formatting properties.\n",
    "\n",
    "Here's an example:\n",
    "from docx import Document\n",
    "\n",
    "doc = Document('path/to/document.docx')\n",
    "paragraph = doc.paragraphs[0]\n",
    "\n",
    "for run in paragraph.runs:\n",
    "    print(run.text)\n",
    "\n",
    "Paragraph object: A Paragraph object represents a single paragraph of text within a document. It contains one or more Run objects representing the formatted runs of text within that paragraph.\n",
    "\n",
    "Here's an example:\n",
    "from docx import Document\n",
    "\n",
    "doc = Document('path/to/document.docx')\n",
    "\n",
    "for paragraph in doc.paragraphs:\n",
    "    print(paragraph.text)\n"
   ]
  },
  {
   "cell_type": "markdown",
   "id": "e784ccf1",
   "metadata": {},
   "source": [
    "# 7. How do you obtain a list of Paragraph objects for a Document object that’s stored in a variable named doc?"
   ]
  },
  {
   "cell_type": "code",
   "execution_count": null,
   "id": "71b4fdf4",
   "metadata": {},
   "outputs": [],
   "source": [
    "To obtain a list of Paragraph objects for a Document object stored in a variable named doc using the python-docx library, you can use the paragraphs attribute of the Document object. Here's an example:\n",
    "from docx import Document\n",
    "\n",
    "doc = Document('path/to/document.docx')\n",
    "\n",
    "paragraphs = doc.paragraphs\n",
    "\n",
    "#Iterate through the list of Paragraph objects\n",
    "for paragraph in paragraphs:\n",
    "    print(paragraph.text)\n",
    "\n",
    "In this example, doc.paragraphs returns a list of Paragraph objects representing the paragraphs in the document. You can iterate through this list and access properties of each Paragraph object, such as paragraph.text to get the plain text content of the paragraph.\n",
    "\n",
    "By printing paragraph.text within the loop, you can see the text content of each paragraph."
   ]
  },
  {
   "cell_type": "markdown",
   "id": "97ea2ed7",
   "metadata": {},
   "source": [
    "# 8. What type of object has bold, underline, italic, strike, and outline variables?"
   ]
  },
  {
   "cell_type": "code",
   "execution_count": null,
   "id": "e81fdbc9",
   "metadata": {},
   "outputs": [],
   "source": [
    "The Font object in various text processing libraries, such as python-docx for working with Microsoft Word documents, has variables such as bold, underline, italic, strike, and outline. These variables allow you to control the formatting properties of the text.\n",
    "\n",
    "Here's an example using python-docx to illustrate the usage of these variables:\n",
    "from docx import Document\n",
    "\n",
    "doc = Document('path/to/document.docx')\n",
    "paragraph = doc.paragraphs[0]\n",
    "run = paragraph.runs[0]\n",
    "\n",
    "font = run.font\n",
    "print(font.bold)       # Check if text is bold\n",
    "print(font.underline)  # Check if text is underlined\n",
    "print(font.italic)     # Check if text is italicized\n",
    "print(font.strike)     # Check if text is struck through\n",
    "print(font.outline)    # Check if text has an outline\n",
    "\n",
    "font.bold = True       # Set text to bold\n",
    "font.underline = True  # Set text to underline\n",
    "font.italic = True     # Set text to italicize\n",
    "font.strike = True     # Set text to struck through\n",
    "font.outline = True    # Set text to have an outline\n",
    "\n",
    "doc.save('path/to/modified_document.docx')\n",
    "\n",
    "In this example, run.font represents the Font object associated with a specific run of text within a paragraph. You can access the properties of this Font object, such as font.bold, font.underline, font.italic, font.strike, and font.outline, to check the current formatting of the text.\n",
    "\n",
    "By assigning True or False to these properties, you can enable or disable the respective formatting attributes for the text."
   ]
  },
  {
   "cell_type": "markdown",
   "id": "cae3de0d",
   "metadata": {},
   "source": [
    "# 9. What is the difference between False, True, and None for the bold variable?"
   ]
  },
  {
   "cell_type": "code",
   "execution_count": null,
   "id": "e34cedd4",
   "metadata": {},
   "outputs": [],
   "source": [
    "In the context of text formatting properties, such as bold, underline, italic, strike, and outline, the values False, True, and None have different meanings:\n",
    "\n",
    "False: Setting the property to False means that the text does not have that particular formatting property applied. For example, if bold is set to False, it means the text is not bold. Similarly, setting underline to False means the text is not underlined.\n",
    "\n",
    "True: Setting the property to True means that the text has the specific formatting property applied. For example, setting bold to True means the text is bold. Similarly, setting italic to True means the text is italicized.\n",
    "\n",
    "None: The value None indicates that the formatting property is not explicitly set. In this case, the text may inherit the formatting property from its containing style or another default setting. It means that the formatting of the text is determined by the context in which it appears."
   ]
  },
  {
   "cell_type": "markdown",
   "id": "ae00b91c",
   "metadata": {},
   "source": [
    "# 10. How do you create a Document object for a new Word document?"
   ]
  },
  {
   "cell_type": "code",
   "execution_count": null,
   "id": "03eb0dbf",
   "metadata": {},
   "outputs": [],
   "source": [
    "To create a Document object for a new Word document using the python-docx library, you can simply instantiate a new Document class. Here's an example:\n",
    "from docx import Document\n",
    "\n",
    "doc = Document()\n",
    "\n",
    "In this example, Document() creates a new instance of the Document class, representing a new Word document.\n",
    "\n",
    "You can then use the doc object to add content to the document, such as paragraphs, tables, images, and more. Here's an example of adding a paragraph to the document:\n",
    "from docx import Document\n",
    "\n",
    "doc = Document()\n",
    "\n",
    "paragraph = doc.add_paragraph('This is a paragraph.')\n",
    "\n",
    "doc.save('path/to/new_document.docx')\n",
    "\n",
    "In this example, doc.add_paragraph('This is a paragraph.') adds a paragraph with the specified text content to the document.\n",
    "\n",
    "Finally, doc.save('path/to/new_document.docx') saves the document to the specified file path, creating a new Word document.\n",
    "\n",
    "Make sure to replace 'path/to/new_document.docx' with the desired file path and filename for your new Word document."
   ]
  },
  {
   "cell_type": "markdown",
   "id": "14cdc631",
   "metadata": {},
   "source": [
    "# 11. How do you add a paragraph with the text 'Hello, there!' to a Document object stored in a variable named doc?"
   ]
  },
  {
   "cell_type": "code",
   "execution_count": null,
   "id": "6947e864",
   "metadata": {},
   "outputs": [],
   "source": [
    "To add a paragraph with the text 'Hello, there!' to a Document object stored in a variable named doc using the python-docx library, you can use the add_paragraph() method. Here's an example:\n",
    "from docx import Document\n",
    "\n",
    "doc = Document()\n",
    "\n",
    "paragraph_text = 'Hello, there!'\n",
    "doc.add_paragraph(paragraph_text)\n",
    "\n",
    "doc.save('path/to/document.docx')\n",
    "\n",
    "In this example, doc.add_paragraph(paragraph_text) adds a new paragraph to the Document object doc with the specified text content 'Hello, there!'. You don't need to assign it to a variable if you don't need to further manipulate it.\n",
    "\n",
    "Finally, doc.save('path/to/document.docx') saves the modified Document object to a Word document file at the specified path."
   ]
  },
  {
   "cell_type": "markdown",
   "id": "ade23bcd",
   "metadata": {},
   "source": [
    "# 12. What integers represent the levels of headings available in Word documents?"
   ]
  },
  {
   "cell_type": "code",
   "execution_count": null,
   "id": "4738656d",
   "metadata": {},
   "outputs": [],
   "source": [
    "In Word documents, the levels of headings are typically represented by integers ranging from 1 to 9. Each integer corresponds to a different level of heading, allowing for hierarchical structuring of the document's sections. The higher the integer, the lower the level of the heading.\n",
    "\n",
    "Here's an overview of the common integer levels used for headings in Word documents:\n",
    "\n",
    "Heading 1: Level 1 heading, typically used for the main title or section headings.\n",
    "Heading 2: Level 2 heading, often used for subheadings within a section.\n",
    "Heading 3: Level 3 heading, used for sub-subheadings or further divisions within a section.\n",
    "Heading 4: Level 4 heading, employed for deeper subheadings or additional layers of subdivision.\n",
    "Heading 5: Level 5 heading.\n",
    "Heading 6: Level 6 heading.\n",
    "Heading 7: Level 7 heading.\n",
    "Heading 8: Level 8 heading.\n",
    "Heading 9: Level 9 heading.\n",
    "These levels allow you to structure your document's content and apply different formatting or styling to each level of heading.\n",
    "\n",
    "Please note that the actual number of available heading levels may depend on the specific Word processing software or template being used. Additionally, custom styles or variations may be defined in different Word document templates, allowing for additional levels or customized numbering schemes."
   ]
  }
 ],
 "metadata": {
  "kernelspec": {
   "display_name": "Python 3 (ipykernel)",
   "language": "python",
   "name": "python3"
  },
  "language_info": {
   "codemirror_mode": {
    "name": "ipython",
    "version": 3
   },
   "file_extension": ".py",
   "mimetype": "text/x-python",
   "name": "python",
   "nbconvert_exporter": "python",
   "pygments_lexer": "ipython3",
   "version": "3.9.12"
  }
 },
 "nbformat": 4,
 "nbformat_minor": 5
}
